{
 "cells": [
  {
   "cell_type": "markdown",
   "metadata": {},
   "source": [
    "# Covariance and Correlation Matrices\n",
    "\n",
    "### Dot Product Uses\n",
    "\n",
    "1. Matrix by Vector\n",
    "  * use vector values as coefficients to multiply row-by-row in matrix\n",
    "  * take linear combination of columns\n",
    "2. Transpose of Matrix by Itself\n",
    "  * produce square matrix describing relationships between columns of original"
   ]
  },
  {
   "cell_type": "code",
   "execution_count": 1,
   "metadata": {},
   "outputs": [
    {
     "data": {
      "text/html": [
       "<div>\n",
       "<style scoped>\n",
       "    .dataframe tbody tr th:only-of-type {\n",
       "        vertical-align: middle;\n",
       "    }\n",
       "\n",
       "    .dataframe tbody tr th {\n",
       "        vertical-align: top;\n",
       "    }\n",
       "\n",
       "    .dataframe thead th {\n",
       "        text-align: right;\n",
       "    }\n",
       "</style>\n",
       "<table border=\"1\" class=\"dataframe\">\n",
       "  <thead>\n",
       "    <tr style=\"text-align: right;\">\n",
       "      <th></th>\n",
       "      <th>w_in</th>\n",
       "      <th>h_in</th>\n",
       "      <th>border_in</th>\n",
       "      <th>w_cm</th>\n",
       "      <th>h_cm</th>\n",
       "    </tr>\n",
       "  </thead>\n",
       "  <tbody>\n",
       "    <tr>\n",
       "      <th>0</th>\n",
       "      <td>8.159544</td>\n",
       "      <td>26.277036</td>\n",
       "      <td>62.749219</td>\n",
       "      <td>21.772423</td>\n",
       "      <td>61.032916</td>\n",
       "    </tr>\n",
       "    <tr>\n",
       "      <th>1</th>\n",
       "      <td>18.028830</td>\n",
       "      <td>44.683923</td>\n",
       "      <td>123.119163</td>\n",
       "      <td>46.876885</td>\n",
       "      <td>113.738598</td>\n",
       "    </tr>\n",
       "    <tr>\n",
       "      <th>2</th>\n",
       "      <td>24.458442</td>\n",
       "      <td>23.067438</td>\n",
       "      <td>98.986402</td>\n",
       "      <td>68.684108</td>\n",
       "      <td>60.365147</td>\n",
       "    </tr>\n",
       "    <tr>\n",
       "      <th>3</th>\n",
       "      <td>35.251781</td>\n",
       "      <td>44.645117</td>\n",
       "      <td>160.862469</td>\n",
       "      <td>92.698729</td>\n",
       "      <td>110.743975</td>\n",
       "    </tr>\n",
       "    <tr>\n",
       "      <th>4</th>\n",
       "      <td>20.017957</td>\n",
       "      <td>24.135788</td>\n",
       "      <td>89.200477</td>\n",
       "      <td>46.324748</td>\n",
       "      <td>63.374942</td>\n",
       "    </tr>\n",
       "    <tr>\n",
       "      <th>5</th>\n",
       "      <td>47.419410</td>\n",
       "      <td>12.177315</td>\n",
       "      <td>113.877156</td>\n",
       "      <td>116.581043</td>\n",
       "      <td>28.465230</td>\n",
       "    </tr>\n",
       "    <tr>\n",
       "      <th>6</th>\n",
       "      <td>34.697197</td>\n",
       "      <td>46.485090</td>\n",
       "      <td>159.000460</td>\n",
       "      <td>88.121677</td>\n",
       "      <td>119.243674</td>\n",
       "    </tr>\n",
       "    <tr>\n",
       "      <th>7</th>\n",
       "      <td>38.518915</td>\n",
       "      <td>35.844671</td>\n",
       "      <td>143.869647</td>\n",
       "      <td>94.643547</td>\n",
       "      <td>87.503231</td>\n",
       "    </tr>\n",
       "    <tr>\n",
       "      <th>8</th>\n",
       "      <td>42.390417</td>\n",
       "      <td>44.779578</td>\n",
       "      <td>177.666311</td>\n",
       "      <td>105.621461</td>\n",
       "      <td>115.939723</td>\n",
       "    </tr>\n",
       "    <tr>\n",
       "      <th>9</th>\n",
       "      <td>15.042688</td>\n",
       "      <td>46.469566</td>\n",
       "      <td>122.887673</td>\n",
       "      <td>39.746403</td>\n",
       "      <td>115.089801</td>\n",
       "    </tr>\n",
       "  </tbody>\n",
       "</table>\n",
       "</div>"
      ],
      "text/plain": [
       "        w_in       h_in   border_in        w_cm        h_cm\n",
       "0   8.159544  26.277036   62.749219   21.772423   61.032916\n",
       "1  18.028830  44.683923  123.119163   46.876885  113.738598\n",
       "2  24.458442  23.067438   98.986402   68.684108   60.365147\n",
       "3  35.251781  44.645117  160.862469   92.698729  110.743975\n",
       "4  20.017957  24.135788   89.200477   46.324748   63.374942\n",
       "5  47.419410  12.177315  113.877156  116.581043   28.465230\n",
       "6  34.697197  46.485090  159.000460   88.121677  119.243674\n",
       "7  38.518915  35.844671  143.869647   94.643547   87.503231\n",
       "8  42.390417  44.779578  177.666311  105.621461  115.939723\n",
       "9  15.042688  46.469566  122.887673   39.746403  115.089801"
      ]
     },
     "execution_count": 1,
     "metadata": {},
     "output_type": "execute_result"
    }
   ],
   "source": [
    "import numpy as np\n",
    "import pandas as pd\n",
    "\n",
    "# build DataFrame of rectangle measurements\n",
    "\n",
    "df = pd.DataFrame()\n",
    "rows = 100\n",
    "df[\"w_in\"] = np.random.uniform(5,50,rows) # in inches\n",
    "df[\"h_in\"] = np.random.uniform(5,50,rows)\n",
    "df[\"border_in\"] = 2*df[\"w_in\"] + 2*df[\"h_in\"]\n",
    "df[\"w_cm\"] = df[\"w_in\"] * 2.54\n",
    "df[\"h_cm\"] = df[\"h_in\"] * 2.54\n",
    "df += np.random.normal(size=(df.shape))\n",
    "df.head(10)"
   ]
  },
  {
   "cell_type": "markdown",
   "metadata": {},
   "source": [
    "## Covariance Matrix"
   ]
  },
  {
   "cell_type": "code",
   "execution_count": 8,
   "metadata": {},
   "outputs": [
    {
     "data": {
      "text/html": [
       "<div>\n",
       "<style scoped>\n",
       "    .dataframe tbody tr th:only-of-type {\n",
       "        vertical-align: middle;\n",
       "    }\n",
       "\n",
       "    .dataframe tbody tr th {\n",
       "        vertical-align: top;\n",
       "    }\n",
       "\n",
       "    .dataframe thead th {\n",
       "        text-align: right;\n",
       "    }\n",
       "</style>\n",
       "<table border=\"1\" class=\"dataframe\">\n",
       "  <thead>\n",
       "    <tr style=\"text-align: right;\">\n",
       "      <th></th>\n",
       "      <th>w_in</th>\n",
       "      <th>h_in</th>\n",
       "      <th>border_in</th>\n",
       "      <th>w_cm</th>\n",
       "      <th>h_cm</th>\n",
       "    </tr>\n",
       "  </thead>\n",
       "  <tbody>\n",
       "    <tr>\n",
       "      <th>0</th>\n",
       "      <td>-19.799018</td>\n",
       "      <td>-2.036255</td>\n",
       "      <td>-49.728916</td>\n",
       "      <td>-49.273765</td>\n",
       "      <td>-10.841511</td>\n",
       "    </tr>\n",
       "    <tr>\n",
       "      <th>1</th>\n",
       "      <td>-9.929732</td>\n",
       "      <td>16.370632</td>\n",
       "      <td>10.641028</td>\n",
       "      <td>-24.169303</td>\n",
       "      <td>41.864172</td>\n",
       "    </tr>\n",
       "    <tr>\n",
       "      <th>2</th>\n",
       "      <td>-3.500121</td>\n",
       "      <td>-5.245853</td>\n",
       "      <td>-13.491733</td>\n",
       "      <td>-2.362080</td>\n",
       "      <td>-11.509279</td>\n",
       "    </tr>\n",
       "    <tr>\n",
       "      <th>3</th>\n",
       "      <td>7.293219</td>\n",
       "      <td>16.331826</td>\n",
       "      <td>48.384334</td>\n",
       "      <td>21.652541</td>\n",
       "      <td>38.869548</td>\n",
       "    </tr>\n",
       "    <tr>\n",
       "      <th>4</th>\n",
       "      <td>-7.940605</td>\n",
       "      <td>-4.177503</td>\n",
       "      <td>-23.277658</td>\n",
       "      <td>-24.721440</td>\n",
       "      <td>-8.499484</td>\n",
       "    </tr>\n",
       "  </tbody>\n",
       "</table>\n",
       "</div>"
      ],
      "text/plain": [
       "        w_in       h_in  border_in       w_cm       h_cm\n",
       "0 -19.799018  -2.036255 -49.728916 -49.273765 -10.841511\n",
       "1  -9.929732  16.370632  10.641028 -24.169303  41.864172\n",
       "2  -3.500121  -5.245853 -13.491733  -2.362080 -11.509279\n",
       "3   7.293219  16.331826  48.384334  21.652541  38.869548\n",
       "4  -7.940605  -4.177503 -23.277658 -24.721440  -8.499484"
      ]
     },
     "execution_count": 8,
     "metadata": {},
     "output_type": "execute_result"
    }
   ],
   "source": [
    "df0 = df - df.mean()\n",
    "df0.head()"
   ]
  },
  {
   "cell_type": "code",
   "execution_count": 20,
   "metadata": {},
   "outputs": [
    {
     "data": {
      "text/html": [
       "<div>\n",
       "<style scoped>\n",
       "    .dataframe tbody tr th:only-of-type {\n",
       "        vertical-align: middle;\n",
       "    }\n",
       "\n",
       "    .dataframe tbody tr th {\n",
       "        vertical-align: top;\n",
       "    }\n",
       "\n",
       "    .dataframe thead th {\n",
       "        text-align: right;\n",
       "    }\n",
       "</style>\n",
       "<table border=\"1\" class=\"dataframe\">\n",
       "  <thead>\n",
       "    <tr style=\"text-align: right;\">\n",
       "      <th></th>\n",
       "      <th>w_in</th>\n",
       "      <th>h_in</th>\n",
       "      <th>border_in</th>\n",
       "      <th>w_cm</th>\n",
       "      <th>h_cm</th>\n",
       "    </tr>\n",
       "  </thead>\n",
       "  <tbody>\n",
       "    <tr>\n",
       "      <th>w_in</th>\n",
       "      <td>166.501552</td>\n",
       "      <td>-9.673027</td>\n",
       "      <td>314.847333</td>\n",
       "      <td>417.608991</td>\n",
       "      <td>-17.789090</td>\n",
       "    </tr>\n",
       "    <tr>\n",
       "      <th>h_in</th>\n",
       "      <td>-9.673027</td>\n",
       "      <td>178.776077</td>\n",
       "      <td>336.361813</td>\n",
       "      <td>-26.721523</td>\n",
       "      <td>455.829626</td>\n",
       "    </tr>\n",
       "    <tr>\n",
       "      <th>border_in</th>\n",
       "      <td>314.847333</td>\n",
       "      <td>336.361813</td>\n",
       "      <td>1311.715321</td>\n",
       "      <td>790.495205</td>\n",
       "      <td>878.639205</td>\n",
       "    </tr>\n",
       "    <tr>\n",
       "      <th>w_cm</th>\n",
       "      <td>417.608991</td>\n",
       "      <td>-26.721523</td>\n",
       "      <td>790.495205</td>\n",
       "      <td>1054.896872</td>\n",
       "      <td>-49.425721</td>\n",
       "    </tr>\n",
       "    <tr>\n",
       "      <th>h_cm</th>\n",
       "      <td>-17.789090</td>\n",
       "      <td>455.829626</td>\n",
       "      <td>878.639205</td>\n",
       "      <td>-49.425721</td>\n",
       "      <td>1171.359061</td>\n",
       "    </tr>\n",
       "  </tbody>\n",
       "</table>\n",
       "</div>"
      ],
      "text/plain": [
       "                 w_in        h_in    border_in         w_cm         h_cm\n",
       "w_in       166.501552   -9.673027   314.847333   417.608991   -17.789090\n",
       "h_in        -9.673027  178.776077   336.361813   -26.721523   455.829626\n",
       "border_in  314.847333  336.361813  1311.715321   790.495205   878.639205\n",
       "w_cm       417.608991  -26.721523   790.495205  1054.896872   -49.425721\n",
       "h_cm       -17.789090  455.829626   878.639205   -49.425721  1171.359061"
      ]
     },
     "execution_count": 20,
     "metadata": {},
     "output_type": "execute_result"
    }
   ],
   "source": [
    "cov = np.dot(df0.T, df0) / (len(df) - 1)\n",
    "cov = pd.DataFrame(cov, columns=df0.columns, index=df0.columns)\n",
    "assert np.allclose(df.cov(), cov)\n",
    "cov"
   ]
  },
  {
   "cell_type": "markdown",
   "metadata": {},
   "source": [
    "## Correlation Matrix"
   ]
  },
  {
   "cell_type": "code",
   "execution_count": 22,
   "metadata": {},
   "outputs": [
    {
     "data": {
      "text/plain": [
       "w_in         12.903548\n",
       "h_in         13.370717\n",
       "border_in    36.217611\n",
       "w_cm         32.479176\n",
       "h_cm         34.225123\n",
       "dtype: float64"
      ]
     },
     "execution_count": 22,
     "metadata": {},
     "output_type": "execute_result"
    }
   ],
   "source": [
    "df.std()"
   ]
  },
  {
   "cell_type": "markdown",
   "metadata": {},
   "source": [
    "df0 = (df - df.mean()) / df.std()\n",
    "corr = np.dot(df0.T, df0) / (len(df) - 1)\n",
    "corr = pd.DataFrame(corr, columns=df0.columns, index=df0.columns)\n",
    "assert np.allclose(df.corr(), corr)\n",
    "corr"
   ]
  },
  {
   "cell_type": "markdown",
   "metadata": {},
   "source": [
    "# Practice"
   ]
  },
  {
   "cell_type": "code",
   "execution_count": 28,
   "metadata": {},
   "outputs": [
    {
     "data": {
      "text/html": [
       "<div>\n",
       "<style scoped>\n",
       "    .dataframe tbody tr th:only-of-type {\n",
       "        vertical-align: middle;\n",
       "    }\n",
       "\n",
       "    .dataframe tbody tr th {\n",
       "        vertical-align: top;\n",
       "    }\n",
       "\n",
       "    .dataframe thead th {\n",
       "        text-align: right;\n",
       "    }\n",
       "</style>\n",
       "<table border=\"1\" class=\"dataframe\">\n",
       "  <thead>\n",
       "    <tr style=\"text-align: right;\">\n",
       "      <th></th>\n",
       "      <th>w_in</th>\n",
       "      <th>h_in</th>\n",
       "      <th>border_in</th>\n",
       "      <th>w_cm</th>\n",
       "      <th>h_cm</th>\n",
       "    </tr>\n",
       "  </thead>\n",
       "  <tbody>\n",
       "    <tr>\n",
       "      <th>0</th>\n",
       "      <td>5.972415</td>\n",
       "      <td>49.208822</td>\n",
       "      <td>108.113327</td>\n",
       "      <td>15.584162</td>\n",
       "      <td>123.005836</td>\n",
       "    </tr>\n",
       "    <tr>\n",
       "      <th>1</th>\n",
       "      <td>12.219786</td>\n",
       "      <td>34.415693</td>\n",
       "      <td>90.282384</td>\n",
       "      <td>26.884565</td>\n",
       "      <td>85.945432</td>\n",
       "    </tr>\n",
       "    <tr>\n",
       "      <th>2</th>\n",
       "      <td>47.124131</td>\n",
       "      <td>19.381839</td>\n",
       "      <td>135.487546</td>\n",
       "      <td>122.980103</td>\n",
       "      <td>48.096495</td>\n",
       "    </tr>\n",
       "    <tr>\n",
       "      <th>3</th>\n",
       "      <td>24.756069</td>\n",
       "      <td>20.431006</td>\n",
       "      <td>89.960129</td>\n",
       "      <td>60.198155</td>\n",
       "      <td>54.057001</td>\n",
       "    </tr>\n",
       "    <tr>\n",
       "      <th>4</th>\n",
       "      <td>19.317442</td>\n",
       "      <td>31.039396</td>\n",
       "      <td>97.981448</td>\n",
       "      <td>47.025102</td>\n",
       "      <td>76.946085</td>\n",
       "    </tr>\n",
       "  </tbody>\n",
       "</table>\n",
       "</div>"
      ],
      "text/plain": [
       "        w_in       h_in   border_in        w_cm        h_cm\n",
       "0   5.972415  49.208822  108.113327   15.584162  123.005836\n",
       "1  12.219786  34.415693   90.282384   26.884565   85.945432\n",
       "2  47.124131  19.381839  135.487546  122.980103   48.096495\n",
       "3  24.756069  20.431006   89.960129   60.198155   54.057001\n",
       "4  19.317442  31.039396   97.981448   47.025102   76.946085"
      ]
     },
     "execution_count": 28,
     "metadata": {},
     "output_type": "execute_result"
    }
   ],
   "source": [
    "import matplotlib.pyplot as plt\n",
    "import numpy as np\n",
    "import pandas as pd\n",
    "\n",
    "# build DataFrame of rectangle measurements\n",
    "\n",
    "df = pd.DataFrame()\n",
    "rows = 100\n",
    "df[\"w_in\"] = np.random.uniform(5,50,rows) # in inches\n",
    "df[\"h_in\"] = np.random.uniform(5,50,rows)\n",
    "df[\"border_in\"] = 2*df[\"w_in\"] + 2*df[\"h_in\"]\n",
    "df[\"w_cm\"] = df[\"w_in\"] * 2.54\n",
    "df[\"h_cm\"] = df[\"h_in\"] * 2.54\n",
    "df += np.random.normal(size=(df.shape))\n",
    "df.head()"
   ]
  },
  {
   "cell_type": "code",
   "execution_count": 36,
   "metadata": {},
   "outputs": [
    {
     "data": {
      "text/html": [
       "<div>\n",
       "<style scoped>\n",
       "    .dataframe tbody tr th:only-of-type {\n",
       "        vertical-align: middle;\n",
       "    }\n",
       "\n",
       "    .dataframe tbody tr th {\n",
       "        vertical-align: top;\n",
       "    }\n",
       "\n",
       "    .dataframe thead th {\n",
       "        text-align: right;\n",
       "    }\n",
       "</style>\n",
       "<table border=\"1\" class=\"dataframe\">\n",
       "  <thead>\n",
       "    <tr style=\"text-align: right;\">\n",
       "      <th></th>\n",
       "      <th>w_in</th>\n",
       "      <th>h_in</th>\n",
       "      <th>border_in</th>\n",
       "      <th>w_cm</th>\n",
       "      <th>h_cm</th>\n",
       "    </tr>\n",
       "  </thead>\n",
       "  <tbody>\n",
       "    <tr>\n",
       "      <th>w_in</th>\n",
       "      <td>1.000000</td>\n",
       "      <td>0.052395</td>\n",
       "      <td>0.711717</td>\n",
       "      <td>0.997197</td>\n",
       "      <td>0.047905</td>\n",
       "    </tr>\n",
       "    <tr>\n",
       "      <th>h_in</th>\n",
       "      <td>0.052395</td>\n",
       "      <td>1.000000</td>\n",
       "      <td>0.734785</td>\n",
       "      <td>0.051891</td>\n",
       "      <td>0.997297</td>\n",
       "    </tr>\n",
       "    <tr>\n",
       "      <th>border_in</th>\n",
       "      <td>0.711717</td>\n",
       "      <td>0.734785</td>\n",
       "      <td>1.000000</td>\n",
       "      <td>0.712636</td>\n",
       "      <td>0.733523</td>\n",
       "    </tr>\n",
       "    <tr>\n",
       "      <th>w_cm</th>\n",
       "      <td>0.997197</td>\n",
       "      <td>0.051891</td>\n",
       "      <td>0.712636</td>\n",
       "      <td>1.000000</td>\n",
       "      <td>0.047362</td>\n",
       "    </tr>\n",
       "    <tr>\n",
       "      <th>h_cm</th>\n",
       "      <td>0.047905</td>\n",
       "      <td>0.997297</td>\n",
       "      <td>0.733523</td>\n",
       "      <td>0.047362</td>\n",
       "      <td>1.000000</td>\n",
       "    </tr>\n",
       "  </tbody>\n",
       "</table>\n",
       "</div>"
      ],
      "text/plain": [
       "               w_in      h_in  border_in      w_cm      h_cm\n",
       "w_in       1.000000  0.052395   0.711717  0.997197  0.047905\n",
       "h_in       0.052395  1.000000   0.734785  0.051891  0.997297\n",
       "border_in  0.711717  0.734785   1.000000  0.712636  0.733523\n",
       "w_cm       0.997197  0.051891   0.712636  1.000000  0.047362\n",
       "h_cm       0.047905  0.997297   0.733523  0.047362  1.000000"
      ]
     },
     "execution_count": 36,
     "metadata": {},
     "output_type": "execute_result"
    }
   ],
   "source": [
    "corr = df.corr()\n",
    "corr"
   ]
  },
  {
   "cell_type": "code",
   "execution_count": 49,
   "metadata": {},
   "outputs": [
    {
     "data": {
      "image/png": "[encoded data removed]",
      "text/plain": [
       "<Figure size 432x288 with 1 Axes>"
      ]
     },
     "metadata": {
      "needs_background": "light"
     },
     "output_type": "display_data"
    }
   ],
   "source": [
    "ax = plt.imshow(corr)"
   ]
  },
  {
   "cell_type": "code",
   "execution_count": 51,
   "metadata": {},
   "outputs": [
    {
     "data": {
      "text/plain": [
       "<matplotlib.colorbar.Colorbar at 0x7f3459fc2978>"
      ]
     },
     "execution_count": 51,
     "metadata": {},
     "output_type": "execute_result"
    },
    {
     "data": {
      "image/png": "[encoded data removed]",
      "text/plain": [
       "<Figure size 432x288 with 2 Axes>"
      ]
     },
     "metadata": {
      "needs_background": "light"
     },
     "output_type": "display_data"
    }
   ],
   "source": [
    "ax = plt.imshow(corr, cmap=\"coolwarm\", vmin=-1, vmax=1)\n",
    "plt.xticks(range(len(corr)), corr.columns)\n",
    "plt.yticks(range(len(corr)), corr.columns)\n",
    "plt.colorbar()"
   ]
  },
  {
   "cell_type": "code",
   "execution_count": null,
   "metadata": {},
   "outputs": [],
   "source": []
  }
 ],
 "metadata": {
  "kernelspec": {
   "display_name": "Python 3",
   "language": "python",
   "name": "python3"
  },
  "language_info": {
   "codemirror_mode": {
    "name": "ipython",
    "version": 3
   },
   "file_extension": ".py",
   "mimetype": "text/x-python",
   "name": "python",
   "nbconvert_exporter": "python",
   "pygments_lexer": "ipython3",
   "version": "3.6.9"
  }
 },
 "nbformat": 4,
 "nbformat_minor": 4
}
