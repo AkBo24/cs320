{
 "cells": [
  {
   "cell_type": "code",
   "execution_count": 2,
   "metadata": {},
   "outputs": [
    {
     "data": {
      "text/plain": [
       "3.2188100814819336"
      ]
     },
     "execution_count": 2,
     "metadata": {},
     "output_type": "execute_result"
    }
   ],
   "source": [
    "import requests, time\n",
    "from multiprocessing.pool import Pool\n",
    "\n",
    "url = \"https://tyler.caraza-harter.com/cs320/s20/lectures/lec-20/practice7/{}.html\"\n",
    "\n",
    "def fetch(idx):\n",
    "    r = requests.get(url.format(idx))\n",
    "    r.raise_for_status()\n",
    "    return r.text\n",
    "\n",
    "fetch(1)\n",
    "\n",
    "t0 = time.time()\n",
    "with Pool(1) as p:\n",
    "    pages = p.map(fetch, range(18))\n",
    "t1 = time.time()\n",
    "t1-t0"
   ]
  },
  {
   "cell_type": "code",
   "execution_count": 27,
   "metadata": {},
   "outputs": [
    {
     "data": {
      "text/plain": [
       "1.8199565410614014"
      ]
     },
     "execution_count": 27,
     "metadata": {},
     "output_type": "execute_result"
    }
   ],
   "source": [
    "t0 = time.time()\n",
    "pages = list(map(fetch, range(18)))\n",
    "t1 = time.time()\n",
    "t1-t0"
   ]
  },
  {
   "cell_type": "code",
   "execution_count": 30,
   "metadata": {},
   "outputs": [
    {
     "data": {
      "text/plain": [
       "0.8439385890960693"
      ]
     },
     "execution_count": 30,
     "metadata": {},
     "output_type": "execute_result"
    }
   ],
   "source": [
    "t0 = time.time()\n",
    "with Pool(4) as p:\n",
    "    pages = p.map(fetch, range(18))\n",
    "t1 = time.time()\n",
    "t1-t0"
   ]
  },
  {
   "cell_type": "code",
   "execution_count": 31,
   "metadata": {},
   "outputs": [
    {
     "data": {
      "text/plain": [
       "['<html><body>\\n<h1>Node: 0</h1>\\n<h3>Children:</h3>\\n<ul>\\n<li><a href=\"16.html\">16</a><li><a href=\"17.html\">17</a><li><a href=\"6.html\">6</a><li><a href=\"12.html\">12</a></ul>\\n</body></html>\\n',\n",
       " '<html><body>\\n<h1>Node: 1</h1>\\n<h3>Children:</h3>\\n<ul>\\n<li><a href=\"0.html\">0</a><li><a href=\"2.html\">2</a></ul>\\n</body></html>\\n',\n",
       " '<html><body>\\n<h1>Node: 2</h1>\\n<h3>Children:</h3>\\n<ul>\\n<li><a href=\"0.html\">0</a><li><a href=\"1.html\">1</a></ul>\\n</body></html>\\n',\n",
       " '<html><body>\\n<h1>Node: 3</h1>\\n<h3>Children:</h3>\\n<ul>\\n<li><a href=\"2.html\">2</a><li><a href=\"4.html\">4</a></ul>\\n</body></html>\\n',\n",
       " '<html><body>\\n<h1>Node: 4</h1>\\n<h3>Children:</h3>\\n<ul>\\n<li><a href=\"2.html\">2</a><li><a href=\"3.html\">3</a></ul>\\n</body></html>\\n',\n",
       " '<html><body>\\n<h1>Node: 5</h1>\\n<h3>Children:</h3>\\n<ul>\\n<li><a href=\"4.html\">4</a><li><a href=\"6.html\">6</a></ul>\\n</body></html>\\n',\n",
       " '<html><body>\\n<h1>Node: 6</h1>\\n<h3>Children:</h3>\\n<ul>\\n<li><a href=\"4.html\">4</a><li><a href=\"5.html\">5</a><li><a href=\"0.html\">0</a><li><a href=\"12.html\">12</a></ul>\\n</body></html>\\n',\n",
       " '<html><body>\\n<h1>Node: 7</h1>\\n<h3>Children:</h3>\\n<ul>\\n<li><a href=\"6.html\">6</a><li><a href=\"8.html\">8</a></ul>\\n</body></html>\\n',\n",
       " '<html><body>\\n<h1>Node: 8</h1>\\n<h3>Children:</h3>\\n<ul>\\n<li><a href=\"6.html\">6</a><li><a href=\"7.html\">7</a></ul>\\n</body></html>\\n',\n",
       " '<html><body>\\n<h1>Node: 9</h1>\\n<h3>Children:</h3>\\n<ul>\\n<li><a href=\"8.html\">8</a><li><a href=\"10.html\">10</a></ul>\\n</body></html>\\n',\n",
       " '<html><body>\\n<h1>Node: 10</h1>\\n<h3>Children:</h3>\\n<ul>\\n<li><a href=\"8.html\">8</a><li><a href=\"9.html\">9</a></ul>\\n</body></html>\\n',\n",
       " '<html><body>\\n<h1>Node: 11</h1>\\n<h3>Children:</h3>\\n<ul>\\n<li><a href=\"10.html\">10</a><li><a href=\"12.html\">12</a></ul>\\n</body></html>\\n',\n",
       " '<html><body>\\n<h1>Node: 12</h1>\\n<h3>Children:</h3>\\n<ul>\\n<li><a href=\"10.html\">10</a><li><a href=\"11.html\">11</a><li><a href=\"0.html\">0</a><li><a href=\"6.html\">6</a></ul>\\n</body></html>\\n',\n",
       " '<html><body>\\n<h1>Node: 13</h1>\\n<h3>Children:</h3>\\n<ul>\\n<li><a href=\"12.html\">12</a><li><a href=\"14.html\">14</a></ul>\\n</body></html>\\n',\n",
       " '<html><body>\\n<h1>Node: 14</h1>\\n<h3>Children:</h3>\\n<ul>\\n<li><a href=\"12.html\">12</a><li><a href=\"13.html\">13</a></ul>\\n</body></html>\\n',\n",
       " '<html><body>\\n<h1>Node: 15</h1>\\n<h3>Children:</h3>\\n<ul>\\n<li><a href=\"14.html\">14</a><li><a href=\"16.html\">16</a></ul>\\n</body></html>\\n',\n",
       " '<html><body>\\n<h1>Node: 16</h1>\\n<h3>Children:</h3>\\n<ul>\\n<li><a href=\"14.html\">14</a><li><a href=\"15.html\">15</a></ul>\\n</body></html>\\n',\n",
       " '<html><body>\\n<h1>Node: 17</h1>\\n<h3>Children:</h3>\\n<ul>\\n<li><a href=\"0.html\">0</a><li><a href=\"16.html\">16</a></ul>\\n</body></html>\\n']"
      ]
     },
     "execution_count": 31,
     "metadata": {},
     "output_type": "execute_result"
    }
   ],
   "source": [
    "pages"
   ]
  }
 ],
 "metadata": {
  "kernelspec": {
   "display_name": "Python 3",
   "language": "python",
   "name": "python3"
  },
  "language_info": {
   "codemirror_mode": {
    "name": "ipython",
    "version": 3
   },
   "file_extension": ".py",
   "mimetype": "text/x-python",
   "name": "python",
   "nbconvert_exporter": "python",
   "pygments_lexer": "ipython3",
   "version": "3.6.9"
  }
 },
 "nbformat": 4,
 "nbformat_minor": 4
}
