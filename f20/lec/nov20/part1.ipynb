{
 "cells": [
  {
   "cell_type": "markdown",
   "metadata": {},
   "source": [
    "# Review: Types of Machine Learning\n",
    "\n",
    "1. Supervised: a special column is considered the label (want to predict it based on the others)\n",
    " - regression (numeric)\n",
    " - classification (categorical)\n",
    "2. Unsupervised: no labels, just looking for patterns (e.g., covariance)\n",
    "3. Reinforcement (not in 320)\n",
    "\n",
    "### Examples of Linear Algebra in Machine Learning\n",
    "\n",
    "* Linear Regression (supervised learning, regression)\n",
    "* Principal Component Analysis (unsupervised learning)\n",
    "\n",
    "# Today\n",
    "\n",
    "* Regression vs. Classification\n",
    "* Logistic Regression (ironically, a classification model, not a regression model)\n",
    "* Evaluating whether a model is good\n",
    "\n",
    "### Regression vs. Classification\n",
    "\n",
    "Typical ML steps:\n",
    "1. train model\n",
    "2. test model (evaluate: is it good?)\n",
    "3. make new predictions\n",
    "\n",
    "We'll start with step 3."
   ]
  },
  {
   "cell_type": "code",
   "execution_count": 1,
   "metadata": {},
   "outputs": [],
   "source": [
    "import matplotlib.pyplot as plt\n",
    "import numpy as np\n",
    "import pandas as pd"
   ]
  },
  {
   "cell_type": "code",
   "execution_count": 2,
   "metadata": {},
   "outputs": [
    {
     "data": {
      "text/html": [
       "<div>\n",
       "<style scoped>\n",
       "    .dataframe tbody tr th:only-of-type {\n",
       "        vertical-align: middle;\n",
       "    }\n",
       "\n",
       "    .dataframe tbody tr th {\n",
       "        vertical-align: top;\n",
       "    }\n",
       "\n",
       "    .dataframe thead th {\n",
       "        text-align: right;\n",
       "    }\n",
       "</style>\n",
       "<table border=\"1\" class=\"dataframe\">\n",
       "  <thead>\n",
       "    <tr style=\"text-align: right;\">\n",
       "      <th></th>\n",
       "      <th>x1</th>\n",
       "      <th>x2</th>\n",
       "      <th>x3</th>\n",
       "      <th>one</th>\n",
       "      <th>y</th>\n",
       "      <th>z</th>\n",
       "    </tr>\n",
       "  </thead>\n",
       "  <tbody>\n",
       "    <tr>\n",
       "      <th>0</th>\n",
       "      <td>8.973478</td>\n",
       "      <td>2.207377</td>\n",
       "      <td>9.061502</td>\n",
       "      <td>1</td>\n",
       "      <td>12.848586</td>\n",
       "      <td>True</td>\n",
       "    </tr>\n",
       "    <tr>\n",
       "      <th>1</th>\n",
       "      <td>8.356966</td>\n",
       "      <td>5.851814</td>\n",
       "      <td>1.047791</td>\n",
       "      <td>1</td>\n",
       "      <td>32.750062</td>\n",
       "      <td>True</td>\n",
       "    </tr>\n",
       "    <tr>\n",
       "      <th>2</th>\n",
       "      <td>3.702320</td>\n",
       "      <td>3.078078</td>\n",
       "      <td>7.416740</td>\n",
       "      <td>1</td>\n",
       "      <td>2.742693</td>\n",
       "      <td>False</td>\n",
       "    </tr>\n",
       "    <tr>\n",
       "      <th>3</th>\n",
       "      <td>8.535779</td>\n",
       "      <td>2.445276</td>\n",
       "      <td>5.936232</td>\n",
       "      <td>1</td>\n",
       "      <td>18.801234</td>\n",
       "      <td>True</td>\n",
       "    </tr>\n",
       "    <tr>\n",
       "      <th>4</th>\n",
       "      <td>9.286952</td>\n",
       "      <td>1.654095</td>\n",
       "      <td>3.647136</td>\n",
       "      <td>1</td>\n",
       "      <td>26.139734</td>\n",
       "      <td>True</td>\n",
       "    </tr>\n",
       "  </tbody>\n",
       "</table>\n",
       "</div>"
      ],
      "text/plain": [
       "         x1        x2        x3  one          y      z\n",
       "0  8.973478  2.207377  9.061502    1  12.848586   True\n",
       "1  8.356966  5.851814  1.047791    1  32.750062   True\n",
       "2  3.702320  3.078078  7.416740    1   2.742693  False\n",
       "3  8.535779  2.445276  5.936232    1  18.801234   True\n",
       "4  9.286952  1.654095  3.647136    1  26.139734   True"
      ]
     },
     "execution_count": 2,
     "metadata": {},
     "output_type": "execute_result"
    }
   ],
   "source": [
    "df = pd.read_csv(\"df.csv\")\n",
    "df.head()"
   ]
  },
  {
   "cell_type": "code",
   "execution_count": 3,
   "metadata": {},
   "outputs": [
    {
     "data": {
      "text/plain": [
       "array([[8.35696565, 5.85181397, 1.04779146, 1.        ]])"
      ]
     },
     "execution_count": 3,
     "metadata": {},
     "output_type": "execute_result"
    }
   ],
   "source": [
    "def get_row(i):\n",
    "    return df.loc[i, \"x1\":\"one\"].values.reshape(1,-1).astype(float)\n",
    "get_row(1)"
   ]
  },
  {
   "cell_type": "code",
   "execution_count": 4,
   "metadata": {},
   "outputs": [
    {
     "data": {
      "text/plain": [
       "array([[3.34902949]])"
      ]
     },
     "execution_count": 4,
     "metadata": {},
     "output_type": "execute_result"
    }
   ],
   "source": [
    "vec1 = np.array([[ 3.014627  ],\n",
    "                 [ 1.01683636],\n",
    "                 [-2.0016033 ],\n",
    "                 [ 3.90338599]])\n",
    "\n",
    "# predict y column\n",
    "def regression_model(row):\n",
    "    return row @ vec1\n",
    "regression_model(get_row(2))"
   ]
  },
  {
   "cell_type": "code",
   "execution_count": 5,
   "metadata": {},
   "outputs": [
    {
     "data": {
      "text/plain": [
       "array([[ True]])"
      ]
     },
     "execution_count": 5,
     "metadata": {},
     "output_type": "execute_result"
    }
   ],
   "source": [
    "vec2 = np.array([[ 1.37239431],\n",
    "                 [-1.16675093],\n",
    "                 [-1.32467119],\n",
    "                 [ 6.59925245]])\n",
    "\n",
    "def sigmoid(x):\n",
    "    return 1 / (1 + np.exp(-x))\n",
    "\n",
    "def classification_model(row):\n",
    "    return sigmoid(row @ vec2).round().astype(bool)\n",
    "\n",
    "classification_model(get_row(1))"
   ]
  },
  {
   "cell_type": "code",
   "execution_count": 6,
   "metadata": {},
   "outputs": [
    {
     "data": {
      "text/html": [
       "<div>\n",
       "<style scoped>\n",
       "    .dataframe tbody tr th:only-of-type {\n",
       "        vertical-align: middle;\n",
       "    }\n",
       "\n",
       "    .dataframe tbody tr th {\n",
       "        vertical-align: top;\n",
       "    }\n",
       "\n",
       "    .dataframe thead th {\n",
       "        text-align: right;\n",
       "    }\n",
       "</style>\n",
       "<table border=\"1\" class=\"dataframe\">\n",
       "  <thead>\n",
       "    <tr style=\"text-align: right;\">\n",
       "      <th></th>\n",
       "      <th>x1</th>\n",
       "      <th>x2</th>\n",
       "      <th>x3</th>\n",
       "      <th>one</th>\n",
       "      <th>y</th>\n",
       "      <th>z</th>\n",
       "      <th>predicted_z</th>\n",
       "    </tr>\n",
       "  </thead>\n",
       "  <tbody>\n",
       "    <tr>\n",
       "      <th>0</th>\n",
       "      <td>8.973478</td>\n",
       "      <td>2.207377</td>\n",
       "      <td>9.061502</td>\n",
       "      <td>1</td>\n",
       "      <td>12.848586</td>\n",
       "      <td>True</td>\n",
       "      <td>True</td>\n",
       "    </tr>\n",
       "    <tr>\n",
       "      <th>1</th>\n",
       "      <td>8.356966</td>\n",
       "      <td>5.851814</td>\n",
       "      <td>1.047791</td>\n",
       "      <td>1</td>\n",
       "      <td>32.750062</td>\n",
       "      <td>True</td>\n",
       "      <td>True</td>\n",
       "    </tr>\n",
       "    <tr>\n",
       "      <th>2</th>\n",
       "      <td>3.702320</td>\n",
       "      <td>3.078078</td>\n",
       "      <td>7.416740</td>\n",
       "      <td>1</td>\n",
       "      <td>2.742693</td>\n",
       "      <td>False</td>\n",
       "      <td>False</td>\n",
       "    </tr>\n",
       "    <tr>\n",
       "      <th>3</th>\n",
       "      <td>8.535779</td>\n",
       "      <td>2.445276</td>\n",
       "      <td>5.936232</td>\n",
       "      <td>1</td>\n",
       "      <td>18.801234</td>\n",
       "      <td>True</td>\n",
       "      <td>True</td>\n",
       "    </tr>\n",
       "    <tr>\n",
       "      <th>4</th>\n",
       "      <td>9.286952</td>\n",
       "      <td>1.654095</td>\n",
       "      <td>3.647136</td>\n",
       "      <td>1</td>\n",
       "      <td>26.139734</td>\n",
       "      <td>True</td>\n",
       "      <td>True</td>\n",
       "    </tr>\n",
       "  </tbody>\n",
       "</table>\n",
       "</div>"
      ],
      "text/plain": [
       "         x1        x2        x3  one          y      z  predicted_z\n",
       "0  8.973478  2.207377  9.061502    1  12.848586   True         True\n",
       "1  8.356966  5.851814  1.047791    1  32.750062   True         True\n",
       "2  3.702320  3.078078  7.416740    1   2.742693  False        False\n",
       "3  8.535779  2.445276  5.936232    1  18.801234   True         True\n",
       "4  9.286952  1.654095  3.647136    1  26.139734   True         True"
      ]
     },
     "execution_count": 6,
     "metadata": {},
     "output_type": "execute_result"
    }
   ],
   "source": [
    "df[\"predicted_z\"] = classification_model(df.loc[:, \"x1\":\"one\"])\n",
    "df.head()"
   ]
  },
  {
   "cell_type": "code",
   "execution_count": 7,
   "metadata": {},
   "outputs": [
    {
     "data": {
      "text/plain": [
       "True     95\n",
       "False     5\n",
       "dtype: int64"
      ]
     },
     "execution_count": 7,
     "metadata": {},
     "output_type": "execute_result"
    }
   ],
   "source": [
    "(df[\"z\"] == df[\"predicted_z\"]).value_counts()"
   ]
  },
  {
   "cell_type": "markdown",
   "metadata": {},
   "source": [
    "# Logistic Sigmoid Function"
   ]
  },
  {
   "cell_type": "code",
   "execution_count": 8,
   "metadata": {},
   "outputs": [
    {
     "data": {
      "text/plain": [
       "[<matplotlib.lines.Line2D at 0x7fbb04ac9908>]"
      ]
     },
     "execution_count": 8,
     "metadata": {},
     "output_type": "execute_result"
    },
    {
     "data": {
      "image/png": "[encoded data removed]",
      "text/plain": [
       "<Figure size 432x288 with 1 Axes>"
      ]
     },
     "metadata": {
      "needs_background": "light"
     },
     "output_type": "display_data"
    }
   ],
   "source": [
    "x = np.arange(-20, 20, 0.1)\n",
    "plt.plot(x, sigmoid(x))"
   ]
  },
  {
   "cell_type": "code",
   "execution_count": null,
   "metadata": {},
   "outputs": [],
   "source": []
  }
 ],
 "metadata": {
  "kernelspec": {
   "display_name": "Python 3",
   "language": "python",
   "name": "python3"
  },
  "language_info": {
   "codemirror_mode": {
    "name": "ipython",
    "version": 3
   },
   "file_extension": ".py",
   "mimetype": "text/x-python",
   "name": "python",
   "nbconvert_exporter": "python",
   "pygments_lexer": "ipython3",
   "version": "3.6.9"
  }
 },
 "nbformat": 4,
 "nbformat_minor": 4
}
