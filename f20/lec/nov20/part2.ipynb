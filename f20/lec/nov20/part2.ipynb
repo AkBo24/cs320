{
 "cells": [
  {
   "cell_type": "code",
   "execution_count": 1,
   "metadata": {},
   "outputs": [],
   "source": [
    "import numpy as np\n",
    "\n",
    "vec2 = np.array([[ 1.37239431],\n",
    "                 [-1.16675093],\n",
    "                 [-1.32467119],\n",
    "                 [ 6.59925245]])\n",
    "\n",
    "def sigmoid(x):\n",
    "    return 1 / (1 + np.exp(-x))\n",
    "\n",
    "def classification_model(row):\n",
    "    return sigmoid(row @ vec2).round().astype(bool)"
   ]
  },
  {
   "cell_type": "markdown",
   "metadata": {},
   "source": [
    "# Typical ML steps:\n",
    "\n",
    "1. train model\n",
    "2. test model (evaluate: is it good?)\n",
    "3. make new predictions\n",
    "\n",
    "Using the same data for steps 1+2 can produce misleading results!  Better to split data into testing and traning datasets.\n",
    "\n",
    "# sklearn Estimators\n",
    "\n",
    "1. `fit(X, y)`\n",
    "2. `score(X, y)`\n",
    "3. `predict(X)` (or `.coef_` and `.intercept_`)"
   ]
  },
  {
   "cell_type": "code",
   "execution_count": 2,
   "metadata": {},
   "outputs": [
    {
     "data": {
      "text/html": [
       "<div>\n",
       "<style scoped>\n",
       "    .dataframe tbody tr th:only-of-type {\n",
       "        vertical-align: middle;\n",
       "    }\n",
       "\n",
       "    .dataframe tbody tr th {\n",
       "        vertical-align: top;\n",
       "    }\n",
       "\n",
       "    .dataframe thead th {\n",
       "        text-align: right;\n",
       "    }\n",
       "</style>\n",
       "<table border=\"1\" class=\"dataframe\">\n",
       "  <thead>\n",
       "    <tr style=\"text-align: right;\">\n",
       "      <th></th>\n",
       "      <th>x1</th>\n",
       "      <th>x2</th>\n",
       "      <th>x3</th>\n",
       "      <th>one</th>\n",
       "      <th>y</th>\n",
       "      <th>z</th>\n",
       "    </tr>\n",
       "  </thead>\n",
       "  <tbody>\n",
       "    <tr>\n",
       "      <th>0</th>\n",
       "      <td>8.973478</td>\n",
       "      <td>2.207377</td>\n",
       "      <td>9.061502</td>\n",
       "      <td>1</td>\n",
       "      <td>12.848586</td>\n",
       "      <td>True</td>\n",
       "    </tr>\n",
       "    <tr>\n",
       "      <th>1</th>\n",
       "      <td>8.356966</td>\n",
       "      <td>5.851814</td>\n",
       "      <td>1.047791</td>\n",
       "      <td>1</td>\n",
       "      <td>32.750062</td>\n",
       "      <td>True</td>\n",
       "    </tr>\n",
       "    <tr>\n",
       "      <th>2</th>\n",
       "      <td>3.702320</td>\n",
       "      <td>3.078078</td>\n",
       "      <td>7.416740</td>\n",
       "      <td>1</td>\n",
       "      <td>2.742693</td>\n",
       "      <td>False</td>\n",
       "    </tr>\n",
       "    <tr>\n",
       "      <th>3</th>\n",
       "      <td>8.535779</td>\n",
       "      <td>2.445276</td>\n",
       "      <td>5.936232</td>\n",
       "      <td>1</td>\n",
       "      <td>18.801234</td>\n",
       "      <td>True</td>\n",
       "    </tr>\n",
       "    <tr>\n",
       "      <th>4</th>\n",
       "      <td>9.286952</td>\n",
       "      <td>1.654095</td>\n",
       "      <td>3.647136</td>\n",
       "      <td>1</td>\n",
       "      <td>26.139734</td>\n",
       "      <td>True</td>\n",
       "    </tr>\n",
       "  </tbody>\n",
       "</table>\n",
       "</div>"
      ],
      "text/plain": [
       "         x1        x2        x3  one          y      z\n",
       "0  8.973478  2.207377  9.061502    1  12.848586   True\n",
       "1  8.356966  5.851814  1.047791    1  32.750062   True\n",
       "2  3.702320  3.078078  7.416740    1   2.742693  False\n",
       "3  8.535779  2.445276  5.936232    1  18.801234   True\n",
       "4  9.286952  1.654095  3.647136    1  26.139734   True"
      ]
     },
     "execution_count": 2,
     "metadata": {},
     "output_type": "execute_result"
    }
   ],
   "source": [
    "import pandas as pd\n",
    "df = pd.read_csv(\"df.csv\")\n",
    "df.head()"
   ]
  },
  {
   "cell_type": "code",
   "execution_count": 3,
   "metadata": {},
   "outputs": [],
   "source": [
    "from sklearn.model_selection import train_test_split\n",
    "from sklearn.linear_model import LinearRegression   # regression model\n",
    "from sklearn.linear_model import LogisticRegression # classification model"
   ]
  },
  {
   "cell_type": "code",
   "execution_count": 4,
   "metadata": {},
   "outputs": [
    {
     "data": {
      "text/html": [
       "<div>\n",
       "<style scoped>\n",
       "    .dataframe tbody tr th:only-of-type {\n",
       "        vertical-align: middle;\n",
       "    }\n",
       "\n",
       "    .dataframe tbody tr th {\n",
       "        vertical-align: top;\n",
       "    }\n",
       "\n",
       "    .dataframe thead th {\n",
       "        text-align: right;\n",
       "    }\n",
       "</style>\n",
       "<table border=\"1\" class=\"dataframe\">\n",
       "  <thead>\n",
       "    <tr style=\"text-align: right;\">\n",
       "      <th></th>\n",
       "      <th>x1</th>\n",
       "      <th>x2</th>\n",
       "      <th>x3</th>\n",
       "      <th>one</th>\n",
       "      <th>y</th>\n",
       "      <th>z</th>\n",
       "    </tr>\n",
       "  </thead>\n",
       "  <tbody>\n",
       "    <tr>\n",
       "      <th>13</th>\n",
       "      <td>5.053321</td>\n",
       "      <td>3.542724</td>\n",
       "      <td>4.550394</td>\n",
       "      <td>1</td>\n",
       "      <td>12.500436</td>\n",
       "      <td>True</td>\n",
       "    </tr>\n",
       "    <tr>\n",
       "      <th>66</th>\n",
       "      <td>8.277397</td>\n",
       "      <td>1.004268</td>\n",
       "      <td>3.464437</td>\n",
       "      <td>1</td>\n",
       "      <td>23.713679</td>\n",
       "      <td>True</td>\n",
       "    </tr>\n",
       "    <tr>\n",
       "      <th>74</th>\n",
       "      <td>6.808463</td>\n",
       "      <td>7.072885</td>\n",
       "      <td>9.215683</td>\n",
       "      <td>1</td>\n",
       "      <td>12.673961</td>\n",
       "      <td>False</td>\n",
       "    </tr>\n",
       "    <tr>\n",
       "      <th>23</th>\n",
       "      <td>8.259205</td>\n",
       "      <td>2.572212</td>\n",
       "      <td>8.426069</td>\n",
       "      <td>1</td>\n",
       "      <td>14.774285</td>\n",
       "      <td>True</td>\n",
       "    </tr>\n",
       "    <tr>\n",
       "      <th>33</th>\n",
       "      <td>6.912245</td>\n",
       "      <td>8.943233</td>\n",
       "      <td>5.636122</td>\n",
       "      <td>1</td>\n",
       "      <td>21.872859</td>\n",
       "      <td>False</td>\n",
       "    </tr>\n",
       "  </tbody>\n",
       "</table>\n",
       "</div>"
      ],
      "text/plain": [
       "          x1        x2        x3  one          y      z\n",
       "13  5.053321  3.542724  4.550394    1  12.500436   True\n",
       "66  8.277397  1.004268  3.464437    1  23.713679   True\n",
       "74  6.808463  7.072885  9.215683    1  12.673961  False\n",
       "23  8.259205  2.572212  8.426069    1  14.774285   True\n",
       "33  6.912245  8.943233  5.636122    1  21.872859  False"
      ]
     },
     "execution_count": 4,
     "metadata": {},
     "output_type": "execute_result"
    }
   ],
   "source": [
    "train, test = train_test_split(df, train_size=0.5, stratify=df[\"z\"])\n",
    "train.head()"
   ]
  },
  {
   "cell_type": "code",
   "execution_count": 5,
   "metadata": {},
   "outputs": [
    {
     "data": {
      "text/plain": [
       "True     30\n",
       "False    20\n",
       "Name: z, dtype: int64"
      ]
     },
     "execution_count": 5,
     "metadata": {},
     "output_type": "execute_result"
    }
   ],
   "source": [
    "train[\"z\"].value_counts()"
   ]
  },
  {
   "cell_type": "code",
   "execution_count": 6,
   "metadata": {},
   "outputs": [
    {
     "data": {
      "text/plain": [
       "True     31\n",
       "False    19\n",
       "Name: z, dtype: int64"
      ]
     },
     "execution_count": 6,
     "metadata": {},
     "output_type": "execute_result"
    }
   ],
   "source": [
    "test[\"z\"].value_counts()"
   ]
  },
  {
   "cell_type": "code",
   "execution_count": 7,
   "metadata": {},
   "outputs": [
    {
     "data": {
      "text/plain": [
       "LogisticRegression(C=1.0, class_weight=None, dual=False, fit_intercept=True,\n",
       "                   intercept_scaling=1, l1_ratio=None, max_iter=100,\n",
       "                   multi_class='auto', n_jobs=None, penalty='l2',\n",
       "                   random_state=None, solver='lbfgs', tol=0.0001, verbose=0,\n",
       "                   warm_start=False)"
      ]
     },
     "execution_count": 7,
     "metadata": {},
     "output_type": "execute_result"
    }
   ],
   "source": [
    "lr = LogisticRegression()\n",
    "lr.fit(train.loc[:, \"x1\":\"x3\"], train[\"z\"]) # 1. train"
   ]
  },
  {
   "cell_type": "code",
   "execution_count": 8,
   "metadata": {},
   "outputs": [
    {
     "data": {
      "text/plain": [
       "0.98"
      ]
     },
     "execution_count": 8,
     "metadata": {},
     "output_type": "execute_result"
    }
   ],
   "source": [
    "lr.score(train.loc[:, \"x1\":\"x3\"], train[\"z\"]) # not a real measure of perf"
   ]
  },
  {
   "cell_type": "code",
   "execution_count": 9,
   "metadata": {},
   "outputs": [
    {
     "data": {
      "text/plain": [
       "0.9"
      ]
     },
     "execution_count": 9,
     "metadata": {},
     "output_type": "execute_result"
    }
   ],
   "source": [
    "lr.score(test.loc[:, \"x1\":\"x3\"], test[\"z\"]) # 2. test"
   ]
  },
  {
   "cell_type": "code",
   "execution_count": 10,
   "metadata": {},
   "outputs": [
    {
     "data": {
      "text/plain": [
       "array([False])"
      ]
     },
     "execution_count": 10,
     "metadata": {},
     "output_type": "execute_result"
    }
   ],
   "source": [
    "lr.predict([[100,200,10]])"
   ]
  },
  {
   "cell_type": "code",
   "execution_count": 11,
   "metadata": {},
   "outputs": [
    {
     "data": {
      "text/plain": [
       "(array([[ 1.42757118, -0.93253474, -0.93349587]]), array([2.94964951]))"
      ]
     },
     "execution_count": 11,
     "metadata": {},
     "output_type": "execute_result"
    }
   ],
   "source": [
    "lr.coef_, lr.intercept_"
   ]
  },
  {
   "cell_type": "markdown",
   "metadata": {},
   "source": [
    "# Practice"
   ]
  },
  {
   "cell_type": "code",
   "execution_count": 12,
   "metadata": {},
   "outputs": [
    {
     "data": {
      "text/html": [
       "<div>\n",
       "<style scoped>\n",
       "    .dataframe tbody tr th:only-of-type {\n",
       "        vertical-align: middle;\n",
       "    }\n",
       "\n",
       "    .dataframe tbody tr th {\n",
       "        vertical-align: top;\n",
       "    }\n",
       "\n",
       "    .dataframe thead th {\n",
       "        text-align: right;\n",
       "    }\n",
       "</style>\n",
       "<table border=\"1\" class=\"dataframe\">\n",
       "  <thead>\n",
       "    <tr style=\"text-align: right;\">\n",
       "      <th></th>\n",
       "      <th>x0</th>\n",
       "      <th>x1</th>\n",
       "      <th>x2</th>\n",
       "      <th>x3</th>\n",
       "      <th>x4</th>\n",
       "      <th>x5</th>\n",
       "      <th>x6</th>\n",
       "      <th>x7</th>\n",
       "      <th>x8</th>\n",
       "      <th>x9</th>\n",
       "      <th>...</th>\n",
       "      <th>x41</th>\n",
       "      <th>x42</th>\n",
       "      <th>x43</th>\n",
       "      <th>x44</th>\n",
       "      <th>x45</th>\n",
       "      <th>x46</th>\n",
       "      <th>x47</th>\n",
       "      <th>x48</th>\n",
       "      <th>x49</th>\n",
       "      <th>y</th>\n",
       "    </tr>\n",
       "  </thead>\n",
       "  <tbody>\n",
       "    <tr>\n",
       "      <th>31</th>\n",
       "      <td>10.315059</td>\n",
       "      <td>10.760968</td>\n",
       "      <td>8.786167</td>\n",
       "      <td>13.193551</td>\n",
       "      <td>9.423619</td>\n",
       "      <td>9.423556</td>\n",
       "      <td>7.093098</td>\n",
       "      <td>10.874292</td>\n",
       "      <td>3.936580</td>\n",
       "      <td>4.476895</td>\n",
       "      <td>...</td>\n",
       "      <td>6.693343</td>\n",
       "      <td>14.187943</td>\n",
       "      <td>8.323768</td>\n",
       "      <td>13.990539</td>\n",
       "      <td>13.082446</td>\n",
       "      <td>1.891230</td>\n",
       "      <td>8.633574</td>\n",
       "      <td>0.752379</td>\n",
       "      <td>14.713517</td>\n",
       "      <td>True</td>\n",
       "    </tr>\n",
       "    <tr>\n",
       "      <th>0</th>\n",
       "      <td>1.030302</td>\n",
       "      <td>5.116757</td>\n",
       "      <td>4.001380</td>\n",
       "      <td>-10.386396</td>\n",
       "      <td>11.300361</td>\n",
       "      <td>6.447294</td>\n",
       "      <td>6.067272</td>\n",
       "      <td>-1.675419</td>\n",
       "      <td>5.865653</td>\n",
       "      <td>4.103602</td>\n",
       "      <td>...</td>\n",
       "      <td>-3.468903</td>\n",
       "      <td>3.528641</td>\n",
       "      <td>-1.780201</td>\n",
       "      <td>0.655541</td>\n",
       "      <td>4.664122</td>\n",
       "      <td>2.645642</td>\n",
       "      <td>-7.749456</td>\n",
       "      <td>-1.044071</td>\n",
       "      <td>1.171304</td>\n",
       "      <td>False</td>\n",
       "    </tr>\n",
       "    <tr>\n",
       "      <th>36</th>\n",
       "      <td>-0.797863</td>\n",
       "      <td>8.332517</td>\n",
       "      <td>1.233429</td>\n",
       "      <td>6.350662</td>\n",
       "      <td>7.084271</td>\n",
       "      <td>13.789061</td>\n",
       "      <td>9.981648</td>\n",
       "      <td>14.360578</td>\n",
       "      <td>2.249592</td>\n",
       "      <td>3.899070</td>\n",
       "      <td>...</td>\n",
       "      <td>4.688770</td>\n",
       "      <td>7.590700</td>\n",
       "      <td>11.292887</td>\n",
       "      <td>7.750538</td>\n",
       "      <td>7.279855</td>\n",
       "      <td>-4.375554</td>\n",
       "      <td>12.805295</td>\n",
       "      <td>-3.837977</td>\n",
       "      <td>7.571411</td>\n",
       "      <td>True</td>\n",
       "    </tr>\n",
       "    <tr>\n",
       "      <th>6</th>\n",
       "      <td>4.721581</td>\n",
       "      <td>2.652721</td>\n",
       "      <td>-5.671712</td>\n",
       "      <td>5.789889</td>\n",
       "      <td>7.594718</td>\n",
       "      <td>5.518626</td>\n",
       "      <td>-1.304606</td>\n",
       "      <td>10.140444</td>\n",
       "      <td>2.043874</td>\n",
       "      <td>10.454265</td>\n",
       "      <td>...</td>\n",
       "      <td>10.861666</td>\n",
       "      <td>2.228563</td>\n",
       "      <td>15.582119</td>\n",
       "      <td>7.633287</td>\n",
       "      <td>3.472359</td>\n",
       "      <td>18.419822</td>\n",
       "      <td>1.010726</td>\n",
       "      <td>7.152993</td>\n",
       "      <td>-1.522687</td>\n",
       "      <td>True</td>\n",
       "    </tr>\n",
       "    <tr>\n",
       "      <th>1</th>\n",
       "      <td>0.304770</td>\n",
       "      <td>0.744419</td>\n",
       "      <td>7.281961</td>\n",
       "      <td>2.760371</td>\n",
       "      <td>6.682569</td>\n",
       "      <td>5.762155</td>\n",
       "      <td>-2.027797</td>\n",
       "      <td>10.393485</td>\n",
       "      <td>5.639179</td>\n",
       "      <td>8.879192</td>\n",
       "      <td>...</td>\n",
       "      <td>10.901712</td>\n",
       "      <td>-0.564909</td>\n",
       "      <td>0.252937</td>\n",
       "      <td>4.042727</td>\n",
       "      <td>2.378738</td>\n",
       "      <td>-0.521538</td>\n",
       "      <td>3.366625</td>\n",
       "      <td>1.692641</td>\n",
       "      <td>7.149033</td>\n",
       "      <td>False</td>\n",
       "    </tr>\n",
       "  </tbody>\n",
       "</table>\n",
       "<p>5 rows × 51 columns</p>\n",
       "</div>"
      ],
      "text/plain": [
       "           x0         x1        x2         x3         x4         x5        x6  \\\n",
       "31  10.315059  10.760968  8.786167  13.193551   9.423619   9.423556  7.093098   \n",
       "0    1.030302   5.116757  4.001380 -10.386396  11.300361   6.447294  6.067272   \n",
       "36  -0.797863   8.332517  1.233429   6.350662   7.084271  13.789061  9.981648   \n",
       "6    4.721581   2.652721 -5.671712   5.789889   7.594718   5.518626 -1.304606   \n",
       "1    0.304770   0.744419  7.281961   2.760371   6.682569   5.762155 -2.027797   \n",
       "\n",
       "           x7        x8         x9  ...        x41        x42        x43  \\\n",
       "31  10.874292  3.936580   4.476895  ...   6.693343  14.187943   8.323768   \n",
       "0   -1.675419  5.865653   4.103602  ...  -3.468903   3.528641  -1.780201   \n",
       "36  14.360578  2.249592   3.899070  ...   4.688770   7.590700  11.292887   \n",
       "6   10.140444  2.043874  10.454265  ...  10.861666   2.228563  15.582119   \n",
       "1   10.393485  5.639179   8.879192  ...  10.901712  -0.564909   0.252937   \n",
       "\n",
       "          x44        x45        x46        x47       x48        x49      y  \n",
       "31  13.990539  13.082446   1.891230   8.633574  0.752379  14.713517   True  \n",
       "0    0.655541   4.664122   2.645642  -7.749456 -1.044071   1.171304  False  \n",
       "36   7.750538   7.279855  -4.375554  12.805295 -3.837977   7.571411   True  \n",
       "6    7.633287   3.472359  18.419822   1.010726  7.152993  -1.522687   True  \n",
       "1    4.042727   2.378738  -0.521538   3.366625  1.692641   7.149033  False  \n",
       "\n",
       "[5 rows x 51 columns]"
      ]
     },
     "execution_count": 12,
     "metadata": {},
     "output_type": "execute_result"
    }
   ],
   "source": [
    "import numpy as np\n",
    "import pandas as pd\n",
    "from sklearn.linear_model import LogisticRegression\n",
    "\n",
    "features = 50\n",
    "rows = 50\n",
    "x = np.random.uniform(0,10,rows)\n",
    "df = pd.DataFrame({f\"x{i}\": x+np.random.normal(size=x.size, scale=5) for i in range(features)})\n",
    "df[\"y\"] = x > 5\n",
    "train, test = train_test_split(df, test_size=0.5)\n",
    "train.head()"
   ]
  },
  {
   "cell_type": "code",
   "execution_count": 13,
   "metadata": {},
   "outputs": [
    {
     "data": {
      "text/plain": [
       "(1.0, 0.96)"
      ]
     },
     "execution_count": 13,
     "metadata": {},
     "output_type": "execute_result"
    }
   ],
   "source": [
    "lr = LogisticRegression()\n",
    "lr.fit(train.iloc[:, :-1], train[\"y\"])\n",
    "lr.score(train.iloc[:, :-1], train[\"y\"]), lr.score(test.iloc[:, :-1], test[\"y\"])"
   ]
  },
  {
   "cell_type": "code",
   "execution_count": null,
   "metadata": {},
   "outputs": [],
   "source": []
  },
  {
   "cell_type": "code",
   "execution_count": null,
   "metadata": {},
   "outputs": [],
   "source": []
  }
 ],
 "metadata": {
  "kernelspec": {
   "display_name": "Python 3",
   "language": "python",
   "name": "python3"
  },
  "language_info": {
   "codemirror_mode": {
    "name": "ipython",
    "version": 3
   },
   "file_extension": ".py",
   "mimetype": "text/x-python",
   "name": "python",
   "nbconvert_exporter": "python",
   "pygments_lexer": "ipython3",
   "version": "3.6.9"
  }
 },
 "nbformat": 4,
 "nbformat_minor": 4
}
