{
 "cells": [
  {
   "cell_type": "markdown",
   "metadata": {},
   "source": [
    "# Last Time\n",
    "\n",
    "* say we want to find $c$ from $Xc = y$, but it is unsolvable\n",
    "* solve $Xc = p$ instead.  $p$ is \"close\" to $y$, so this is pretty good\n",
    "* $p = Py$, where $P$ is the projection matrix for X\n",
    "\n",
    "# Finding a Fit Line: Two Approaches"
   ]
  },
  {
   "cell_type": "code",
   "execution_count": 17,
   "metadata": {},
   "outputs": [
    {
     "data": {
      "text/html": [
       "<div>\n",
       "<style scoped>\n",
       "    .dataframe tbody tr th:only-of-type {\n",
       "        vertical-align: middle;\n",
       "    }\n",
       "\n",
       "    .dataframe tbody tr th {\n",
       "        vertical-align: top;\n",
       "    }\n",
       "\n",
       "    .dataframe thead th {\n",
       "        text-align: right;\n",
       "    }\n",
       "</style>\n",
       "<table border=\"1\" class=\"dataframe\">\n",
       "  <thead>\n",
       "    <tr style=\"text-align: right;\">\n",
       "      <th></th>\n",
       "      <th>x</th>\n",
       "      <th>y</th>\n",
       "      <th>const</th>\n",
       "    </tr>\n",
       "  </thead>\n",
       "  <tbody>\n",
       "    <tr>\n",
       "      <th>0</th>\n",
       "      <td>13.541670</td>\n",
       "      <td>45.610926</td>\n",
       "      <td>1</td>\n",
       "    </tr>\n",
       "    <tr>\n",
       "      <th>1</th>\n",
       "      <td>16.187461</td>\n",
       "      <td>36.078346</td>\n",
       "      <td>1</td>\n",
       "    </tr>\n",
       "    <tr>\n",
       "      <th>2</th>\n",
       "      <td>4.014509</td>\n",
       "      <td>65.168197</td>\n",
       "      <td>1</td>\n",
       "    </tr>\n",
       "    <tr>\n",
       "      <th>3</th>\n",
       "      <td>12.720595</td>\n",
       "      <td>41.030342</td>\n",
       "      <td>1</td>\n",
       "    </tr>\n",
       "    <tr>\n",
       "      <th>4</th>\n",
       "      <td>8.673601</td>\n",
       "      <td>57.737672</td>\n",
       "      <td>1</td>\n",
       "    </tr>\n",
       "  </tbody>\n",
       "</table>\n",
       "</div>"
      ],
      "text/plain": [
       "           x          y  const\n",
       "0  13.541670  45.610926      1\n",
       "1  16.187461  36.078346      1\n",
       "2   4.014509  65.168197      1\n",
       "3  12.720595  41.030342      1\n",
       "4   8.673601  57.737672      1"
      ]
     },
     "execution_count": 17,
     "metadata": {},
     "output_type": "execute_result"
    }
   ],
   "source": [
    "import numpy as np\n",
    "import pandas as pd\n",
    "import matplotlib.pyplot as plt\n",
    "x = np.random.normal(10, 5, 30)\n",
    "noise = np.random.normal(0, 6, 30)\n",
    "y = x * -2.5 + 80 + noise # slope 2.5, intercept 80\n",
    "df = pd.DataFrame({\"x\":x, \"y\":y, \"const\": 1})\n",
    "df.head()"
   ]
  },
  {
   "cell_type": "code",
   "execution_count": 18,
   "metadata": {},
   "outputs": [
    {
     "data": {
      "text/plain": [
       "(0.0, 79.29094675131253)"
      ]
     },
     "execution_count": 18,
     "metadata": {},
     "output_type": "execute_result"
    },
    {
     "data": {
      "image/png": "[encoded data removed]",
      "text/plain": [
       "<Figure size 432x288 with 1 Axes>"
      ]
     },
     "metadata": {
      "needs_background": "light"
     },
     "output_type": "display_data"
    }
   ],
   "source": [
    "ax = df.plot.scatter(x=\"x\", y=\"y\", color=\"black\")\n",
    "ax.set_xlim(0)\n",
    "ax.set_ylim(0)"
   ]
  },
  {
   "cell_type": "code",
   "execution_count": 24,
   "metadata": {},
   "outputs": [],
   "source": [
    "X = df[[\"x\", \"const\"]].values\n",
    "y = df[\"y\"].values.reshape(-1,1)\n",
    "P = X.dot(np.linalg.inv(X.T.dot(X))).dot(X.T)"
   ]
  },
  {
   "cell_type": "code",
   "execution_count": 4,
   "metadata": {},
   "outputs": [],
   "source": [
    "# TODO: add p column, computed as P@y\n",
    "# TODO: scatter plot with x (x-axis) and p (y-axis)"
   ]
  },
  {
   "cell_type": "code",
   "execution_count": 25,
   "metadata": {},
   "outputs": [
    {
     "data": {
      "text/html": [
       "<div>\n",
       "<style scoped>\n",
       "    .dataframe tbody tr th:only-of-type {\n",
       "        vertical-align: middle;\n",
       "    }\n",
       "\n",
       "    .dataframe tbody tr th {\n",
       "        vertical-align: top;\n",
       "    }\n",
       "\n",
       "    .dataframe thead th {\n",
       "        text-align: right;\n",
       "    }\n",
       "</style>\n",
       "<table border=\"1\" class=\"dataframe\">\n",
       "  <thead>\n",
       "    <tr style=\"text-align: right;\">\n",
       "      <th></th>\n",
       "      <th>x</th>\n",
       "      <th>y</th>\n",
       "      <th>const</th>\n",
       "      <th>p</th>\n",
       "    </tr>\n",
       "  </thead>\n",
       "  <tbody>\n",
       "    <tr>\n",
       "      <th>0</th>\n",
       "      <td>13.541670</td>\n",
       "      <td>45.610926</td>\n",
       "      <td>1</td>\n",
       "      <td>45.467989</td>\n",
       "    </tr>\n",
       "    <tr>\n",
       "      <th>1</th>\n",
       "      <td>16.187461</td>\n",
       "      <td>36.078346</td>\n",
       "      <td>1</td>\n",
       "      <td>38.427693</td>\n",
       "    </tr>\n",
       "    <tr>\n",
       "      <th>2</th>\n",
       "      <td>4.014509</td>\n",
       "      <td>65.168197</td>\n",
       "      <td>1</td>\n",
       "      <td>70.819207</td>\n",
       "    </tr>\n",
       "    <tr>\n",
       "      <th>3</th>\n",
       "      <td>12.720595</td>\n",
       "      <td>41.030342</td>\n",
       "      <td>1</td>\n",
       "      <td>47.652821</td>\n",
       "    </tr>\n",
       "    <tr>\n",
       "      <th>4</th>\n",
       "      <td>8.673601</td>\n",
       "      <td>57.737672</td>\n",
       "      <td>1</td>\n",
       "      <td>58.421635</td>\n",
       "    </tr>\n",
       "  </tbody>\n",
       "</table>\n",
       "</div>"
      ],
      "text/plain": [
       "           x          y  const          p\n",
       "0  13.541670  45.610926      1  45.467989\n",
       "1  16.187461  36.078346      1  38.427693\n",
       "2   4.014509  65.168197      1  70.819207\n",
       "3  12.720595  41.030342      1  47.652821\n",
       "4   8.673601  57.737672      1  58.421635"
      ]
     },
     "execution_count": 25,
     "metadata": {},
     "output_type": "execute_result"
    }
   ],
   "source": [
    "p = P @ y\n",
    "df[\"p\"] = p\n",
    "df.head()"
   ]
  },
  {
   "cell_type": "code",
   "execution_count": 26,
   "metadata": {},
   "outputs": [
    {
     "data": {
      "text/plain": [
       "(0.0, 79.29094675131253)"
      ]
     },
     "execution_count": 26,
     "metadata": {},
     "output_type": "execute_result"
    },
    {
     "data": {
      "image/png": "[encoded data removed]",
      "text/plain": [
       "<Figure size 432x288 with 1 Axes>"
      ]
     },
     "metadata": {
      "needs_background": "light"
     },
     "output_type": "display_data"
    }
   ],
   "source": [
    "ax = df.plot.scatter(x=\"x\", y=\"y\", color=\"black\")\n",
    "df.plot.scatter(x=\"x\", y=\"p\", color=\"red\", ax=ax)\n",
    "ax.set_xlim(0)\n",
    "ax.set_ylim(0)"
   ]
  },
  {
   "cell_type": "markdown",
   "metadata": {},
   "source": [
    "# Approach 1: do calculation with numpy\n",
    "\n",
    "$Xc = p = Py$, and $P = X(X^TX)^{-1}X^T$, so:\n",
    "\n",
    "$Xc = X(X^TX)^{-1}X^Ty$\n",
    "\n",
    "Multiply both sides by $X^T$ and simplify:\n",
    "\n",
    "$X^TXc = (X^TX)(X^TX)^{-1}X^Ty$\n",
    "\n",
    "$X^TXc = X^Ty$\n",
    "\n",
    "Yay, $X^TX$ is a square matrix!  And $X^Ty$ is just a vector."
   ]
  },
  {
   "cell_type": "code",
   "execution_count": 5,
   "metadata": {},
   "outputs": [],
   "source": [
    "# TODO: solve for c\n",
    "# TODO: plot fit line, pulling slope and intercept out of c"
   ]
  },
  {
   "cell_type": "code",
   "execution_count": 28,
   "metadata": {},
   "outputs": [
    {
     "data": {
      "text/plain": [
       "array([[4119.15019689,  324.56163301],\n",
       "       [ 324.56163301,   30.        ]])"
      ]
     },
     "execution_count": 28,
     "metadata": {},
     "output_type": "execute_result"
    }
   ],
   "source": [
    "square_matrix = X.T @ X\n",
    "square_matrix"
   ]
  },
  {
   "cell_type": "code",
   "execution_count": 29,
   "metadata": {},
   "outputs": [
    {
     "data": {
      "text/plain": [
       "array([[15491.46800703],\n",
       "       [ 1581.40787478]])"
      ]
     },
     "execution_count": 29,
     "metadata": {},
     "output_type": "execute_result"
    }
   ],
   "source": [
    "new_vector = X.T @ y\n",
    "new_vector"
   ]
  },
  {
   "cell_type": "code",
   "execution_count": 35,
   "metadata": {},
   "outputs": [
    {
     "name": "stdout",
     "output_type": "stream",
     "text": [
      "-2.660941689739756\n",
      "81.50158183175246\n"
     ]
    }
   ],
   "source": [
    "c = np.linalg.solve(square_matrix, new_vector)\n",
    "slope, intercept = c.reshape(-1)\n",
    "print(slope)\n",
    "print(intercept)"
   ]
  },
  {
   "cell_type": "code",
   "execution_count": 49,
   "metadata": {},
   "outputs": [
    {
     "data": {
      "text/plain": [
       "[<matplotlib.lines.Line2D at 0x7f1fadb11dd8>]"
      ]
     },
     "execution_count": 49,
     "metadata": {},
     "output_type": "execute_result"
    },
    {
     "data": {
      "image/png": "[encoded data removed]",
      "text/plain": [
       "<Figure size 432x288 with 1 Axes>"
      ]
     },
     "metadata": {
      "needs_background": "light"
     },
     "output_type": "display_data"
    }
   ],
   "source": [
    "ax = df.plot.scatter(x=\"x\", y=\"y\", color=\"black\")\n",
    "df.plot.scatter(x=\"x\", y=\"p\", color=\"red\", ax=ax)\n",
    "ax.set_xlim(0)\n",
    "ax.set_ylim(0)\n",
    "x0 = ax.get_xlim()[0]\n",
    "x1 = ax.get_xlim()[1]\n",
    "y0 = slope * x0 + intercept\n",
    "y1 = slope * x1 + intercept\n",
    "ax.plot((x0, x1), (y0, y1), \"0.7\")"
   ]
  },
  {
   "cell_type": "markdown",
   "metadata": {},
   "source": [
    "# Approach 2: let sklearn do it"
   ]
  },
  {
   "cell_type": "code",
   "execution_count": 6,
   "metadata": {},
   "outputs": [],
   "source": [
    "from sklearn.linear_model import LinearRegression # scikit-learn"
   ]
  },
  {
   "cell_type": "code",
   "execution_count": 7,
   "metadata": {},
   "outputs": [],
   "source": [
    "# TODO: compute slope, intercept\n",
    "# TODO: plot points and fit line"
   ]
  },
  {
   "cell_type": "code",
   "execution_count": 63,
   "metadata": {},
   "outputs": [
    {
     "data": {
      "text/plain": [
       "(-2.660941689739762, 81.50158183175252)"
      ]
     },
     "execution_count": 63,
     "metadata": {},
     "output_type": "execute_result"
    }
   ],
   "source": [
    "lr = LinearRegression()\n",
    "lr.fit(df[[\"x\"]], df[\"y\"])\n",
    "slope = lr.coef_[0]\n",
    "intercept = lr.intercept_\n",
    "slope, intercept"
   ]
  },
  {
   "cell_type": "code",
   "execution_count": 62,
   "metadata": {},
   "outputs": [
    {
     "data": {
      "text/plain": [
       "[<matplotlib.lines.Line2D at 0x7f1fade9c4e0>]"
      ]
     },
     "execution_count": 62,
     "metadata": {},
     "output_type": "execute_result"
    },
    {
     "data": {
      "image/png": "[encoded data removed]",
      "text/plain": [
       "<Figure size 432x288 with 1 Axes>"
      ]
     },
     "metadata": {
      "needs_background": "light"
     },
     "output_type": "display_data"
    }
   ],
   "source": [
    "ax = df.plot.scatter(x=\"x\", y=\"y\", color=\"black\")\n",
    "ax.set_xlim(0)\n",
    "ax.set_ylim(0)\n",
    "x0 = ax.get_xlim()[0]\n",
    "x1 = ax.get_xlim()[1]\n",
    "y0 = slope * x0 + intercept\n",
    "y1 = slope * x1 + intercept\n",
    "ax.plot((x0, x1), (y0, y1), \"0.7\")"
   ]
  },
  {
   "cell_type": "code",
   "execution_count": null,
   "metadata": {},
   "outputs": [],
   "source": []
  }
 ],
 "metadata": {
  "kernelspec": {
   "display_name": "Python 3",
   "language": "python",
   "name": "python3"
  },
  "language_info": {
   "codemirror_mode": {
    "name": "ipython",
    "version": 3
   },
   "file_extension": ".py",
   "mimetype": "text/x-python",
   "name": "python",
   "nbconvert_exporter": "python",
   "pygments_lexer": "ipython3",
   "version": "3.6.9"
  }
 },
 "nbformat": 4,
 "nbformat_minor": 4
}
