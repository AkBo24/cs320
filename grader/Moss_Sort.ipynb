{
 "cells": [
  {
   "cell_type": "markdown",
   "metadata": {},
   "source": [
    "## A tool for sorting MOSS result based on max percent\n",
    "* replace `my_page` in the first cell with the url that you get from MOSS\n",
    "* run the cells\n",
    "* `Moss_Sorted.html` is created that contains the sorted results based on maximum matched percent in the first two columns. "
   ]
  },
  {
   "cell_type": "code",
   "execution_count": 140,
   "metadata": {},
   "outputs": [],
   "source": [
    "from bs4 import BeautifulSoup\n",
    "import requests as rq\n",
    "import pandas as pd"
   ]
  },
  {
   "cell_type": "code",
   "execution_count": 141,
   "metadata": {},
   "outputs": [],
   "source": [
    "my_page=\"my_page\"\n",
    "pg1=rq.get(my_page)\n",
    "page_1=BeautifulSoup(pg1.text,'html.parser')\n",
    "my_df=pd.read_html(pg1.text)[0] #contains the table from original MOSS results"
   ]
  },
  {
   "cell_type": "code",
   "execution_count": 142,
   "metadata": {},
   "outputs": [],
   "source": [
    "table = page_1.find('table')\n",
    "links = []\n",
    "#taken and modified from https://stackoverflow.com/questions/56757261/extract-href-using-pandas-read-html\n",
    "for tr in table.findAll(\"tr\"):\n",
    "    trs = tr.findAll(\"td\")\n",
    "    link1=[]\n",
    "    for each in trs:\n",
    "        try:\n",
    "            link = each.find('a')['href']\n",
    "            #print(link)\n",
    "            link1.append(link)\n",
    "        except:\n",
    "            pass\n",
    "    links.append(link1)\n",
    "\n",
    "links=links[1:]\n",
    "final_links=[link[0] for link in links] #contains one link per row \n",
    "my_df[\"Link\"]=final_links #adds links column to the data fram\n",
    "#print(final_links)"
   ]
  },
  {
   "cell_type": "code",
   "execution_count": 143,
   "metadata": {},
   "outputs": [],
   "source": [
    "for index,row in my_df.iterrows():\n",
    "    a=row[\"File 1\"].split(\" \")[1].split(\"%\")[0].split(\"(\")[1]\n",
    "    b=row[\"File 2\"].split(\" \")[1].split(\"%\")[0].split(\"(\")[1]\n",
    "    my_df.loc[index,\"Max_Percent\"]=max(int(a),int(b)) #adds a column for max_percent"
   ]
  },
  {
   "cell_type": "code",
   "execution_count": 144,
   "metadata": {},
   "outputs": [],
   "source": [
    "my_df=my_df.sort_values(by=[\"Max_Percent\"],ascending=False)"
   ]
  },
  {
   "cell_type": "code",
   "execution_count": 145,
   "metadata": {},
   "outputs": [],
   "source": [
    "#taken and modefied from https://discuss.streamlit.io/t/display-urls-in-dataframe-column-as-a-clickable-hyperlink/743/4\n",
    "def make_clickable(link):\n",
    "    text = link.split('/')[-1]\n",
    "    return f'<a target=\"_blank\" href=\"{link}\">{text}</a>' #puts each link in <a> tag so that the converted version to html looks like a link\n",
    "\n",
    "for index,row in my_df.iterrows():\n",
    "    a=make_clickable(row[\"Link\"])\n",
    "    my_df.loc[index,\"Link\"]=a #puts each link in <a> tag so that the converted version to html\n",
    "my_df1 = my_df.to_html('Moss_Sorted.html',escape=False) #export the data frame to an html file\n"
   ]
  },
  {
   "cell_type": "code",
   "execution_count": null,
   "metadata": {},
   "outputs": [],
   "source": []
  }
 ],
 "metadata": {
  "kernelspec": {
   "display_name": "Python 3",
   "language": "python",
   "name": "python3"
  },
  "language_info": {
   "codemirror_mode": {
    "name": "ipython",
    "version": 3
   },
   "file_extension": ".py",
   "mimetype": "text/x-python",
   "name": "python",
   "nbconvert_exporter": "python",
   "pygments_lexer": "ipython3",
   "version": "3.6.9"
  }
 },
 "nbformat": 4,
 "nbformat_minor": 4
}
